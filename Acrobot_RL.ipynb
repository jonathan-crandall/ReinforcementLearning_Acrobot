{
  "cells": [
    {
      "cell_type": "code",
      "execution_count": 110,
      "metadata": {
        "colab": {
          "base_uri": "https://localhost:8080/"
        },
        "id": "zkP9ett8xTXK",
        "outputId": "bd8f381b-33aa-4065-c5d1-85511a2f3700"
      },
      "outputs": [
        {
          "name": "stdout",
          "output_type": "stream",
          "text": [
            "Requirement already satisfied: gym[classic_control] in c:\\users\\jonathan\\appdata\\local\\programs\\python\\python38\\lib\\site-packages (0.26.2)\n",
            "Requirement already satisfied: cloudpickle>=1.2.0 in c:\\users\\jonathan\\appdata\\local\\programs\\python\\python38\\lib\\site-packages (from gym[classic_control]) (2.2.0)\n",
            "Requirement already satisfied: gym-notices>=0.0.4 in c:\\users\\jonathan\\appdata\\local\\programs\\python\\python38\\lib\\site-packages (from gym[classic_control]) (0.0.8)\n",
            "Requirement already satisfied: importlib-metadata>=4.8.0 in c:\\users\\jonathan\\appdata\\local\\programs\\python\\python38\\lib\\site-packages (from gym[classic_control]) (5.0.0)\n",
            "Requirement already satisfied: numpy>=1.18.0 in c:\\users\\jonathan\\appdata\\local\\programs\\python\\python38\\lib\\site-packages (from gym[classic_control]) (1.22.4)\n",
            "Requirement already satisfied: zipp>=0.5 in c:\\users\\jonathan\\appdata\\local\\programs\\python\\python38\\lib\\site-packages (from importlib-metadata>=4.8.0->gym[classic_control]) (3.10.0)\n",
            "Requirement already satisfied: pygame==2.1.0 in c:\\users\\jonathan\\appdata\\local\\programs\\python\\python38\\lib\\site-packages (from gym[classic_control]) (2.1.0)\n"
          ]
        },
        {
          "name": "stderr",
          "output_type": "stream",
          "text": [
            "WARNING: You are using pip version 21.1.1; however, version 22.3.1 is available.\n",
            "You should consider upgrading via the 'c:\\users\\jonathan\\appdata\\local\\programs\\python\\python38\\python.exe -m pip install --upgrade pip' command.\n"
          ]
        }
      ],
      "source": [
        "!pip install gym[classic_control] --upgrade gym"
      ]
    },
    {
      "cell_type": "code",
      "execution_count": 111,
      "metadata": {
        "id": "FplP9WYZ4HQX"
      },
      "outputs": [],
      "source": [
        "import random\n",
        "from collections import deque\n",
        "import numpy as np\n",
        "\n",
        "import gym\n",
        "import torch\n",
        "import sys\n",
        "\n",
        "import matplotlib.pyplot as plt\n",
        "import seaborn as sns\n",
        "import moviepy"
      ]
    },
    {
      "cell_type": "code",
      "execution_count": 112,
      "metadata": {
        "id": "ow3zerF24CI_"
      },
      "outputs": [],
      "source": [
        "from IPython.display import HTML\n",
        "from base64 import b64encode\n",
        "\n",
        "def show_video(file_name):\n",
        "    mp4 = open(file_name, \"rb\").read()\n",
        "    data_url = \"data:video/mp4;base64,\" + b64encode(mp4).decode()\n",
        "    return HTML(\"\"\"\n",
        "<video width=400 controls>\n",
        "    <source src=\"%s\" type=\"video/mp4\">\n",
        "</video>\n",
        "\"\"\" % data_url)"
      ]
    },
    {
      "cell_type": "code",
      "execution_count": 113,
      "metadata": {
        "id": "UvTIiEUm1unA"
      },
      "outputs": [],
      "source": [
        "class QualityNN(torch.nn.Module):\n",
        "    def __init__(self, observation_space, action_space):\n",
        "        super(QualityNN, self).__init__()\n",
        "        self.linear = torch.nn.Sequential(\n",
        "                  torch.nn.Linear(observation_space, 16),\n",
        "                  torch.nn.ReLU(),\n",
        "                  torch.nn.Linear(16,32),\n",
        "                  torch.nn.ReLU(),\n",
        "                  torch.nn.Linear(32, action_space)\n",
        "                )\n",
        "\n",
        "    def forward(self, x):\n",
        "        return self.linear(x)"
      ]
    },
    {
      "cell_type": "code",
      "execution_count": 114,
      "metadata": {
        "id": "U7aU4iB_6ygX"
      },
      "outputs": [],
      "source": [
        "class Memory(object):\n",
        "    def __init__(self, max_size=100):\n",
        "        self.memory = deque(maxlen=max_size)\n",
        "\n",
        "    def push(self, element):\n",
        "        self.memory.append(element)\n",
        "\n",
        "    def get_batch(self, batch_size=4):\n",
        "        batch_size = min(batch_size, len(self))\n",
        "        return random.sample(self.memory, batch_size)\n",
        "\n",
        "    def __repr__(self):\n",
        "        return f\"Current elements in memory: {len(self.memory)}\"\n",
        "\n",
        "    def __len__(self):\n",
        "        return len(self.memory)"
      ]
    },
    {
      "cell_type": "code",
      "execution_count": 115,
      "metadata": {
        "id": "DxIXjmCSG4xr"
      },
      "outputs": [],
      "source": [
        "class Agent(object):\n",
        "    def __init__(self, environment):\n",
        "        self.decay = 0.99\n",
        "        self.randomness = 1.00\n",
        "        self.min_randomness = 0.001\n",
        "        self.learning_rate = 5e-4\n",
        "        \n",
        "        self.device = torch.device(\"cuda\" if torch.cuda.is_available() else \"cpu\")\n",
        "        self.model = QualityNN(environment.observation_space.shape[0], environment.action_space.n).to(self.device)\n",
        "\n",
        "        self.target_model = QualityNN(environment.observation_space.shape[0], environment.action_space.n).to(self.device)\n",
        "        self.target_model.load_state_dict(self.model.state_dict())\n",
        "        self.optimizer = torch.optim.Adam(self.model.parameters(), lr=self.learning_rate)\n",
        "\n",
        "\n",
        "    def act(self, state):\n",
        "        with torch.no_grad():\n",
        "            self.model.eval()\n",
        "\n",
        "            state = torch.tensor(state).to(self.device)\n",
        "            qualities = self.model(state).cpu()\n",
        "\n",
        "        if np.random.rand() <= self.randomness:\n",
        "            action = np.random.randint(low=0, high=qualities.size(dim=0))\n",
        "        else:\n",
        "            action = torch.argmax(qualities).item()\n",
        "\n",
        "        return action, qualities.numpy()\n",
        "\n",
        "    def update(self, memory_batch):\n",
        "        states      = torch.tensor([s[0] for s in memory_batch], dtype=torch.float32, device=self.device)\n",
        "        actions     = torch.tensor([s[2] for s in memory_batch], dtype=torch.int64, device=self.device)\n",
        "        rewards     = torch.tensor([s[3] for s in memory_batch], dtype=torch.float32, device=self.device)\n",
        "\n",
        "        non_final_next_states = torch.tensor([s[1] for s in memory_batch if s[1] is not None], dtype=torch.float32, device=self.device)\n",
        "        non_final_mask = torch.tensor([s[1] is not None for s in memory_batch], dtype=torch.bool)\n",
        "\n",
        "        self.model.train()\n",
        "        q_values = self.model(states)\n",
        "\n",
        "        state_action_values = q_values.gather(1, actions.unsqueeze(1).cuda())\n",
        "        with torch.no_grad():\n",
        "          self.target_model.eval()\n",
        "          q_values_target = self.target_model(non_final_next_states)\n",
        "          next_state_max_q_values = torch.zeros(len(memory_batch), device=self.device)\n",
        "          next_state_max_q_values[non_final_mask] = q_values_target.max(dim=1)[0].detach()\n",
        "\n",
        "        expected_state_action_values = rewards + (next_state_max_q_values * self.decay)\n",
        "        expected_state_action_values = expected_state_action_values.unsqueeze(1)\n",
        "\n",
        "        loss = torch.nn.functional.smooth_l1_loss(state_action_values, expected_state_action_values)\n",
        "\n",
        "        self.optimizer.zero_grad()\n",
        "        loss.backward()\n",
        "        torch.nn.utils.clip_grad_norm_(self.model.parameters(), 2)\n",
        "        self.optimizer.step()\n",
        "\n",
        "        return loss.item()\n",
        "\n",
        "    def update_randomness(self):\n",
        "        self.randomness *= self.decay\n",
        "        self.randomness = max(self.randomness, self.min_randomness)"
      ]
    },
    {
      "cell_type": "code",
      "execution_count": 116,
      "metadata": {
        "colab": {
          "base_uri": "https://localhost:8080/",
          "height": 711
        },
        "id": "I4EkHhh5yjJy",
        "outputId": "daf6ca73-1a7c-4930-d41f-c5a2edf40f75"
      },
      "outputs": [
        {
          "name": "stdout",
          "output_type": "stream",
          "text": [
            "Moviepy - Building video c:\\Users\\Jonathan\\Documents\\GitHub\\RL_Learning\\videos\\rl-video-episode-0.mp4.\n",
            "Moviepy - Writing video c:\\Users\\Jonathan\\Documents\\GitHub\\RL_Learning\\videos\\rl-video-episode-0.mp4\n",
            "\n"
          ]
        },
        {
          "name": "stderr",
          "output_type": "stream",
          "text": [
            "                                                                \r"
          ]
        },
        {
          "name": "stdout",
          "output_type": "stream",
          "text": [
            "Moviepy - Done !\n",
            "Moviepy - video ready c:\\Users\\Jonathan\\Documents\\GitHub\\RL_Learning\\videos\\rl-video-episode-0.mp4\n",
            "Iteration: 100\n",
            "  Moving-Average Steps: 365.3200\n",
            "  Memory-Buffer Size: 10000\n",
            "  Agent Randomness: 0.366\n",
            "  Average Loss: 0.003432\n",
            "\n",
            "Moviepy - Building video c:\\Users\\Jonathan\\Documents\\GitHub\\RL_Learning\\videos\\rl-video-episode-100.mp4.\n",
            "Moviepy - Writing video c:\\Users\\Jonathan\\Documents\\GitHub\\RL_Learning\\videos\\rl-video-episode-100.mp4\n",
            "\n"
          ]
        },
        {
          "name": "stderr",
          "output_type": "stream",
          "text": [
            "                                                               \r"
          ]
        },
        {
          "name": "stdout",
          "output_type": "stream",
          "text": [
            "Moviepy - Done !\n",
            "Moviepy - video ready c:\\Users\\Jonathan\\Documents\\GitHub\\RL_Learning\\videos\\rl-video-episode-100.mp4\n",
            "Iteration: 200\n",
            "  Moving-Average Steps: 258.6100\n",
            "  Memory-Buffer Size: 10000\n",
            "  Agent Randomness: 0.134\n",
            "  Average Loss: 0.001358\n",
            "\n",
            "Moviepy - Building video c:\\Users\\Jonathan\\Documents\\GitHub\\RL_Learning\\videos\\rl-video-episode-200.mp4.\n",
            "Moviepy - Writing video c:\\Users\\Jonathan\\Documents\\GitHub\\RL_Learning\\videos\\rl-video-episode-200.mp4\n",
            "\n"
          ]
        },
        {
          "name": "stderr",
          "output_type": "stream",
          "text": [
            "                                                               \r"
          ]
        },
        {
          "name": "stdout",
          "output_type": "stream",
          "text": [
            "Moviepy - Done !\n",
            "Moviepy - video ready c:\\Users\\Jonathan\\Documents\\GitHub\\RL_Learning\\videos\\rl-video-episode-200.mp4\n",
            "Iteration: 300\n",
            "  Moving-Average Steps: 243.3000\n",
            "  Memory-Buffer Size: 10000\n",
            "  Agent Randomness: 0.049\n",
            "  Average Loss: 0.001139\n",
            "\n",
            "Moviepy - Building video c:\\Users\\Jonathan\\Documents\\GitHub\\RL_Learning\\videos\\rl-video-episode-300.mp4.\n",
            "Moviepy - Writing video c:\\Users\\Jonathan\\Documents\\GitHub\\RL_Learning\\videos\\rl-video-episode-300.mp4\n",
            "\n"
          ]
        },
        {
          "name": "stderr",
          "output_type": "stream",
          "text": [
            "                                                              \r"
          ]
        },
        {
          "name": "stdout",
          "output_type": "stream",
          "text": [
            "Moviepy - Done !\n",
            "Moviepy - video ready c:\\Users\\Jonathan\\Documents\\GitHub\\RL_Learning\\videos\\rl-video-episode-300.mp4\n",
            "Iteration: 400\n",
            "  Moving-Average Steps: 209.0300\n",
            "  Memory-Buffer Size: 10000\n",
            "  Agent Randomness: 0.018\n",
            "  Average Loss: 0.000962\n",
            "\n",
            "Moviepy - Building video c:\\Users\\Jonathan\\Documents\\GitHub\\RL_Learning\\videos\\rl-video-episode-400.mp4.\n",
            "Moviepy - Writing video c:\\Users\\Jonathan\\Documents\\GitHub\\RL_Learning\\videos\\rl-video-episode-400.mp4\n",
            "\n"
          ]
        },
        {
          "name": "stderr",
          "output_type": "stream",
          "text": [
            "                                                              "
          ]
        },
        {
          "name": "stdout",
          "output_type": "stream",
          "text": [
            "Moviepy - Done !"
          ]
        },
        {
          "name": "stderr",
          "output_type": "stream",
          "text": [
            "\r"
          ]
        },
        {
          "name": "stdout",
          "output_type": "stream",
          "text": [
            "\n",
            "Moviepy - video ready c:\\Users\\Jonathan\\Documents\\GitHub\\RL_Learning\\videos\\rl-video-episode-400.mp4\n",
            "Iteration: 500\n",
            "  Moving-Average Steps: 210.7000\n",
            "  Memory-Buffer Size: 10000\n",
            "  Agent Randomness: 0.007\n",
            "  Average Loss: 0.000844\n",
            "\n",
            "Moviepy - Building video c:\\Users\\Jonathan\\Documents\\GitHub\\RL_Learning\\videos\\rl-video-episode-500.mp4.\n",
            "Moviepy - Writing video c:\\Users\\Jonathan\\Documents\\GitHub\\RL_Learning\\videos\\rl-video-episode-500.mp4\n",
            "\n"
          ]
        },
        {
          "name": "stderr",
          "output_type": "stream",
          "text": [
            "                                                                \r"
          ]
        },
        {
          "name": "stdout",
          "output_type": "stream",
          "text": [
            "Moviepy - Done !\n",
            "Moviepy - video ready c:\\Users\\Jonathan\\Documents\\GitHub\\RL_Learning\\videos\\rl-video-episode-500.mp4\n",
            "Iteration: 600\n",
            "  Moving-Average Steps: 227.1000\n",
            "  Memory-Buffer Size: 10000\n",
            "  Agent Randomness: 0.002\n",
            "  Average Loss: 0.000590\n",
            "\n",
            "Moviepy - Building video c:\\Users\\Jonathan\\Documents\\GitHub\\RL_Learning\\videos\\rl-video-episode-600.mp4.\n",
            "Moviepy - Writing video c:\\Users\\Jonathan\\Documents\\GitHub\\RL_Learning\\videos\\rl-video-episode-600.mp4\n",
            "\n"
          ]
        },
        {
          "name": "stderr",
          "output_type": "stream",
          "text": [
            "                                                                \r"
          ]
        },
        {
          "name": "stdout",
          "output_type": "stream",
          "text": [
            "Moviepy - Done !\n",
            "Moviepy - video ready c:\\Users\\Jonathan\\Documents\\GitHub\\RL_Learning\\videos\\rl-video-episode-600.mp4\n",
            "Iteration: 700\n",
            "  Moving-Average Steps: 221.2700\n",
            "  Memory-Buffer Size: 10000\n",
            "  Agent Randomness: 0.001\n",
            "  Average Loss: 0.000814\n",
            "\n",
            "Moviepy - Building video c:\\Users\\Jonathan\\Documents\\GitHub\\RL_Learning\\videos\\rl-video-episode-700.mp4.\n",
            "Moviepy - Writing video c:\\Users\\Jonathan\\Documents\\GitHub\\RL_Learning\\videos\\rl-video-episode-700.mp4\n",
            "\n"
          ]
        },
        {
          "name": "stderr",
          "output_type": "stream",
          "text": [
            "                                                              "
          ]
        },
        {
          "name": "stdout",
          "output_type": "stream",
          "text": [
            "Moviepy - Done !\n",
            "Moviepy - video ready c:\\Users\\Jonathan\\Documents\\GitHub\\RL_Learning\\videos\\rl-video-episode-700.mp4\n"
          ]
        },
        {
          "name": "stderr",
          "output_type": "stream",
          "text": [
            "\r"
          ]
        },
        {
          "name": "stdout",
          "output_type": "stream",
          "text": [
            "Iteration: 800\n",
            "  Moving-Average Steps: 224.2400\n",
            "  Memory-Buffer Size: 10000\n",
            "  Agent Randomness: 0.001\n",
            "  Average Loss: 0.000637\n",
            "\n",
            "Moviepy - Building video c:\\Users\\Jonathan\\Documents\\GitHub\\RL_Learning\\videos\\rl-video-episode-800.mp4.\n",
            "Moviepy - Writing video c:\\Users\\Jonathan\\Documents\\GitHub\\RL_Learning\\videos\\rl-video-episode-800.mp4\n",
            "\n"
          ]
        },
        {
          "name": "stderr",
          "output_type": "stream",
          "text": [
            "                                                              \r"
          ]
        },
        {
          "name": "stdout",
          "output_type": "stream",
          "text": [
            "Moviepy - Done !\n",
            "Moviepy - video ready c:\\Users\\Jonathan\\Documents\\GitHub\\RL_Learning\\videos\\rl-video-episode-800.mp4\n",
            "Iteration: 900\n",
            "  Moving-Average Steps: 200.5600\n",
            "  Memory-Buffer Size: 10000\n",
            "  Agent Randomness: 0.001\n",
            "  Average Loss: 0.000685\n",
            "\n",
            "Moviepy - Building video c:\\Users\\Jonathan\\Documents\\GitHub\\RL_Learning\\videos\\rl-video-episode-900.mp4.\n",
            "Moviepy - Writing video c:\\Users\\Jonathan\\Documents\\GitHub\\RL_Learning\\videos\\rl-video-episode-900.mp4\n",
            "\n"
          ]
        },
        {
          "name": "stderr",
          "output_type": "stream",
          "text": [
            "                                                              \r"
          ]
        },
        {
          "name": "stdout",
          "output_type": "stream",
          "text": [
            "Moviepy - Done !\n",
            "Moviepy - video ready c:\\Users\\Jonathan\\Documents\\GitHub\\RL_Learning\\videos\\rl-video-episode-900.mp4\n",
            "Iteration: 1000\n",
            "  Moving-Average Steps: 200.2700\n",
            "  Memory-Buffer Size: 10000\n",
            "  Agent Randomness: 0.001\n",
            "  Average Loss: 0.000718\n",
            "\n",
            "Moviepy - Building video c:\\Users\\Jonathan\\Documents\\GitHub\\RL_Learning\\videos\\rl-video-episode-1000.mp4.\n",
            "Moviepy - Writing video c:\\Users\\Jonathan\\Documents\\GitHub\\RL_Learning\\videos\\rl-video-episode-1000.mp4\n",
            "\n"
          ]
        },
        {
          "name": "stderr",
          "output_type": "stream",
          "text": [
            "                                                               \r"
          ]
        },
        {
          "name": "stdout",
          "output_type": "stream",
          "text": [
            "Moviepy - Done !\n",
            "Moviepy - video ready c:\\Users\\Jonathan\\Documents\\GitHub\\RL_Learning\\videos\\rl-video-episode-1000.mp4\n",
            "Iteration: 1100\n",
            "  Moving-Average Steps: 215.0100\n",
            "  Memory-Buffer Size: 10000\n",
            "  Agent Randomness: 0.001\n",
            "  Average Loss: 0.000588\n",
            "\n",
            "Moviepy - Building video c:\\Users\\Jonathan\\Documents\\GitHub\\RL_Learning\\videos\\rl-video-episode-1100.mp4.\n",
            "Moviepy - Writing video c:\\Users\\Jonathan\\Documents\\GitHub\\RL_Learning\\videos\\rl-video-episode-1100.mp4\n",
            "\n"
          ]
        },
        {
          "name": "stderr",
          "output_type": "stream",
          "text": [
            "                                                                \r"
          ]
        },
        {
          "name": "stdout",
          "output_type": "stream",
          "text": [
            "Moviepy - Done !\n",
            "Moviepy - video ready c:\\Users\\Jonathan\\Documents\\GitHub\\RL_Learning\\videos\\rl-video-episode-1100.mp4\n",
            "Iteration: 1200\n",
            "  Moving-Average Steps: 220.0100\n",
            "  Memory-Buffer Size: 10000\n",
            "  Agent Randomness: 0.001\n",
            "  Average Loss: 0.000438\n",
            "\n",
            "Moviepy - Building video c:\\Users\\Jonathan\\Documents\\GitHub\\RL_Learning\\videos\\rl-video-episode-1200.mp4.\n",
            "Moviepy - Writing video c:\\Users\\Jonathan\\Documents\\GitHub\\RL_Learning\\videos\\rl-video-episode-1200.mp4\n",
            "\n"
          ]
        },
        {
          "name": "stderr",
          "output_type": "stream",
          "text": [
            "                                                              "
          ]
        },
        {
          "name": "stdout",
          "output_type": "stream",
          "text": [
            "Moviepy - Done !"
          ]
        },
        {
          "name": "stderr",
          "output_type": "stream",
          "text": [
            "\r"
          ]
        },
        {
          "name": "stdout",
          "output_type": "stream",
          "text": [
            "\n",
            "Moviepy - video ready c:\\Users\\Jonathan\\Documents\\GitHub\\RL_Learning\\videos\\rl-video-episode-1200.mp4\n",
            "Iteration: 1300\n",
            "  Moving-Average Steps: 208.1100\n",
            "  Memory-Buffer Size: 10000\n",
            "  Agent Randomness: 0.001\n",
            "  Average Loss: 0.000634\n",
            "\n",
            "Moviepy - Building video c:\\Users\\Jonathan\\Documents\\GitHub\\RL_Learning\\videos\\rl-video-episode-1300.mp4.\n",
            "Moviepy - Writing video c:\\Users\\Jonathan\\Documents\\GitHub\\RL_Learning\\videos\\rl-video-episode-1300.mp4\n",
            "\n"
          ]
        },
        {
          "name": "stderr",
          "output_type": "stream",
          "text": [
            "                                                              "
          ]
        },
        {
          "name": "stdout",
          "output_type": "stream",
          "text": [
            "Moviepy - Done !"
          ]
        },
        {
          "name": "stderr",
          "output_type": "stream",
          "text": [
            "\r"
          ]
        },
        {
          "name": "stdout",
          "output_type": "stream",
          "text": [
            "\n",
            "Moviepy - video ready c:\\Users\\Jonathan\\Documents\\GitHub\\RL_Learning\\videos\\rl-video-episode-1300.mp4\n",
            "Iteration: 1400\n",
            "  Moving-Average Steps: 212.0200\n",
            "  Memory-Buffer Size: 10000\n",
            "  Agent Randomness: 0.001\n",
            "  Average Loss: 0.000588\n",
            "\n",
            "Moviepy - Building video c:\\Users\\Jonathan\\Documents\\GitHub\\RL_Learning\\videos\\rl-video-episode-1400.mp4.\n",
            "Moviepy - Writing video c:\\Users\\Jonathan\\Documents\\GitHub\\RL_Learning\\videos\\rl-video-episode-1400.mp4\n",
            "\n"
          ]
        },
        {
          "name": "stderr",
          "output_type": "stream",
          "text": [
            "                                                              "
          ]
        },
        {
          "name": "stdout",
          "output_type": "stream",
          "text": [
            "Moviepy - Done !"
          ]
        },
        {
          "name": "stderr",
          "output_type": "stream",
          "text": [
            "\r"
          ]
        },
        {
          "name": "stdout",
          "output_type": "stream",
          "text": [
            "\n",
            "Moviepy - video ready c:\\Users\\Jonathan\\Documents\\GitHub\\RL_Learning\\videos\\rl-video-episode-1400.mp4\n",
            "Iteration: 1500\n",
            "  Moving-Average Steps: 211.7200\n",
            "  Memory-Buffer Size: 10000\n",
            "  Agent Randomness: 0.001\n",
            "  Average Loss: 0.000626\n",
            "\n",
            "Moviepy - Building video c:\\Users\\Jonathan\\Documents\\GitHub\\RL_Learning\\videos\\rl-video-episode-1500.mp4.\n",
            "Moviepy - Writing video c:\\Users\\Jonathan\\Documents\\GitHub\\RL_Learning\\videos\\rl-video-episode-1500.mp4\n",
            "\n"
          ]
        },
        {
          "name": "stderr",
          "output_type": "stream",
          "text": [
            "                                                              "
          ]
        },
        {
          "name": "stdout",
          "output_type": "stream",
          "text": [
            "Moviepy - Done !"
          ]
        },
        {
          "name": "stderr",
          "output_type": "stream",
          "text": [
            "\r"
          ]
        },
        {
          "name": "stdout",
          "output_type": "stream",
          "text": [
            "\n",
            "Moviepy - video ready c:\\Users\\Jonathan\\Documents\\GitHub\\RL_Learning\\videos\\rl-video-episode-1500.mp4\n",
            "Iteration: 1600\n",
            "  Moving-Average Steps: 155.4900\n",
            "  Memory-Buffer Size: 10000\n",
            "  Agent Randomness: 0.001\n",
            "  Average Loss: 0.000799\n",
            "\n",
            "Moviepy - Building video c:\\Users\\Jonathan\\Documents\\GitHub\\RL_Learning\\videos\\rl-video-episode-1600.mp4.\n",
            "Moviepy - Writing video c:\\Users\\Jonathan\\Documents\\GitHub\\RL_Learning\\videos\\rl-video-episode-1600.mp4\n",
            "\n"
          ]
        },
        {
          "name": "stderr",
          "output_type": "stream",
          "text": [
            "                                                                \r"
          ]
        },
        {
          "name": "stdout",
          "output_type": "stream",
          "text": [
            "Moviepy - Done !\n",
            "Moviepy - video ready c:\\Users\\Jonathan\\Documents\\GitHub\\RL_Learning\\videos\\rl-video-episode-1600.mp4\n",
            "Iteration: 1700\n",
            "  Moving-Average Steps: 186.5200\n",
            "  Memory-Buffer Size: 10000\n",
            "  Agent Randomness: 0.001\n",
            "  Average Loss: 0.000607\n",
            "\n",
            "Moviepy - Building video c:\\Users\\Jonathan\\Documents\\GitHub\\RL_Learning\\videos\\rl-video-episode-1700.mp4.\n",
            "Moviepy - Writing video c:\\Users\\Jonathan\\Documents\\GitHub\\RL_Learning\\videos\\rl-video-episode-1700.mp4\n",
            "\n"
          ]
        },
        {
          "name": "stderr",
          "output_type": "stream",
          "text": [
            "                                                             \r"
          ]
        },
        {
          "name": "stdout",
          "output_type": "stream",
          "text": [
            "Moviepy - Done !\n",
            "Moviepy - video ready c:\\Users\\Jonathan\\Documents\\GitHub\\RL_Learning\\videos\\rl-video-episode-1700.mp4\n",
            "Iteration: 1800\n",
            "  Moving-Average Steps: 175.8200\n",
            "  Memory-Buffer Size: 10000\n",
            "  Agent Randomness: 0.001\n",
            "  Average Loss: 0.000568\n",
            "\n",
            "Moviepy - Building video c:\\Users\\Jonathan\\Documents\\GitHub\\RL_Learning\\videos\\rl-video-episode-1800.mp4.\n",
            "Moviepy - Writing video c:\\Users\\Jonathan\\Documents\\GitHub\\RL_Learning\\videos\\rl-video-episode-1800.mp4\n",
            "\n"
          ]
        },
        {
          "name": "stderr",
          "output_type": "stream",
          "text": [
            "                                                              "
          ]
        },
        {
          "name": "stdout",
          "output_type": "stream",
          "text": [
            "Moviepy - Done !"
          ]
        },
        {
          "name": "stderr",
          "output_type": "stream",
          "text": [
            "\r"
          ]
        },
        {
          "name": "stdout",
          "output_type": "stream",
          "text": [
            "\n",
            "Moviepy - video ready c:\\Users\\Jonathan\\Documents\\GitHub\\RL_Learning\\videos\\rl-video-episode-1800.mp4\n",
            "Iteration: 1900\n",
            "  Moving-Average Steps: 171.2400\n",
            "  Memory-Buffer Size: 10000\n",
            "  Agent Randomness: 0.001\n",
            "  Average Loss: 0.000606\n",
            "\n",
            "Moviepy - Building video c:\\Users\\Jonathan\\Documents\\GitHub\\RL_Learning\\videos\\rl-video-episode-1900.mp4.\n",
            "Moviepy - Writing video c:\\Users\\Jonathan\\Documents\\GitHub\\RL_Learning\\videos\\rl-video-episode-1900.mp4\n",
            "\n"
          ]
        },
        {
          "name": "stderr",
          "output_type": "stream",
          "text": [
            "                                                                \r"
          ]
        },
        {
          "name": "stdout",
          "output_type": "stream",
          "text": [
            "Moviepy - Done !\n",
            "Moviepy - video ready c:\\Users\\Jonathan\\Documents\\GitHub\\RL_Learning\\videos\\rl-video-episode-1900.mp4\n",
            "Iteration: 2000\n",
            "  Moving-Average Steps: 189.7500\n",
            "  Memory-Buffer Size: 10000\n",
            "  Agent Randomness: 0.001\n",
            "  Average Loss: 0.000381\n",
            "\n",
            "Moviepy - Building video c:\\Users\\Jonathan\\Documents\\GitHub\\RL_Learning\\videos\\rl-video-episode-2000.mp4.\n",
            "Moviepy - Writing video c:\\Users\\Jonathan\\Documents\\GitHub\\RL_Learning\\videos\\rl-video-episode-2000.mp4\n",
            "\n"
          ]
        },
        {
          "name": "stderr",
          "output_type": "stream",
          "text": [
            "                                                               \r"
          ]
        },
        {
          "name": "stdout",
          "output_type": "stream",
          "text": [
            "Moviepy - Done !\n",
            "Moviepy - video ready c:\\Users\\Jonathan\\Documents\\GitHub\\RL_Learning\\videos\\rl-video-episode-2000.mp4\n",
            "Iteration: 2100\n",
            "  Moving-Average Steps: 185.9900\n",
            "  Memory-Buffer Size: 10000\n",
            "  Agent Randomness: 0.001\n",
            "  Average Loss: 0.000454\n",
            "\n",
            "Moviepy - Building video c:\\Users\\Jonathan\\Documents\\GitHub\\RL_Learning\\videos\\rl-video-episode-2100.mp4.\n",
            "Moviepy - Writing video c:\\Users\\Jonathan\\Documents\\GitHub\\RL_Learning\\videos\\rl-video-episode-2100.mp4\n",
            "\n"
          ]
        },
        {
          "name": "stderr",
          "output_type": "stream",
          "text": [
            "                                                                \r"
          ]
        },
        {
          "name": "stdout",
          "output_type": "stream",
          "text": [
            "Moviepy - Done !\n",
            "Moviepy - video ready c:\\Users\\Jonathan\\Documents\\GitHub\\RL_Learning\\videos\\rl-video-episode-2100.mp4\n",
            "Iteration: 2200\n",
            "  Moving-Average Steps: 187.7600\n",
            "  Memory-Buffer Size: 10000\n",
            "  Agent Randomness: 0.001\n",
            "  Average Loss: 0.000555\n",
            "\n",
            "Moviepy - Building video c:\\Users\\Jonathan\\Documents\\GitHub\\RL_Learning\\videos\\rl-video-episode-2200.mp4.\n",
            "Moviepy - Writing video c:\\Users\\Jonathan\\Documents\\GitHub\\RL_Learning\\videos\\rl-video-episode-2200.mp4\n",
            "\n"
          ]
        },
        {
          "name": "stderr",
          "output_type": "stream",
          "text": [
            "                                                                \r"
          ]
        },
        {
          "name": "stdout",
          "output_type": "stream",
          "text": [
            "Moviepy - Done !\n",
            "Moviepy - video ready c:\\Users\\Jonathan\\Documents\\GitHub\\RL_Learning\\videos\\rl-video-episode-2200.mp4\n",
            "Iteration: 2300\n",
            "  Moving-Average Steps: 179.8700\n",
            "  Memory-Buffer Size: 10000\n",
            "  Agent Randomness: 0.001\n",
            "  Average Loss: 0.000552\n",
            "\n",
            "Moviepy - Building video c:\\Users\\Jonathan\\Documents\\GitHub\\RL_Learning\\videos\\rl-video-episode-2300.mp4.\n",
            "Moviepy - Writing video c:\\Users\\Jonathan\\Documents\\GitHub\\RL_Learning\\videos\\rl-video-episode-2300.mp4\n",
            "\n"
          ]
        },
        {
          "name": "stderr",
          "output_type": "stream",
          "text": [
            "                                                              "
          ]
        },
        {
          "name": "stdout",
          "output_type": "stream",
          "text": [
            "Moviepy - Done !"
          ]
        },
        {
          "name": "stderr",
          "output_type": "stream",
          "text": [
            "\r"
          ]
        },
        {
          "name": "stdout",
          "output_type": "stream",
          "text": [
            "\n",
            "Moviepy - video ready c:\\Users\\Jonathan\\Documents\\GitHub\\RL_Learning\\videos\\rl-video-episode-2300.mp4\n",
            "Iteration: 2400\n",
            "  Moving-Average Steps: 157.8100\n",
            "  Memory-Buffer Size: 10000\n",
            "  Agent Randomness: 0.001\n",
            "  Average Loss: 0.000693\n",
            "\n",
            "Moviepy - Building video c:\\Users\\Jonathan\\Documents\\GitHub\\RL_Learning\\videos\\rl-video-episode-2400.mp4.\n",
            "Moviepy - Writing video c:\\Users\\Jonathan\\Documents\\GitHub\\RL_Learning\\videos\\rl-video-episode-2400.mp4\n",
            "\n"
          ]
        },
        {
          "name": "stderr",
          "output_type": "stream",
          "text": [
            "                                                              "
          ]
        },
        {
          "name": "stdout",
          "output_type": "stream",
          "text": [
            "Moviepy - Done !"
          ]
        },
        {
          "name": "stderr",
          "output_type": "stream",
          "text": [
            "\r"
          ]
        },
        {
          "name": "stdout",
          "output_type": "stream",
          "text": [
            "\n",
            "Moviepy - video ready c:\\Users\\Jonathan\\Documents\\GitHub\\RL_Learning\\videos\\rl-video-episode-2400.mp4\n",
            "Iteration: 2500\n",
            "  Moving-Average Steps: 165.1900\n",
            "  Memory-Buffer Size: 10000\n",
            "  Agent Randomness: 0.001\n",
            "  Average Loss: 0.000556\n",
            "\n",
            "Moviepy - Building video c:\\Users\\Jonathan\\Documents\\GitHub\\RL_Learning\\videos\\rl-video-episode-2500.mp4.\n",
            "Moviepy - Writing video c:\\Users\\Jonathan\\Documents\\GitHub\\RL_Learning\\videos\\rl-video-episode-2500.mp4\n",
            "\n"
          ]
        },
        {
          "name": "stderr",
          "output_type": "stream",
          "text": [
            "                                                                \r"
          ]
        },
        {
          "name": "stdout",
          "output_type": "stream",
          "text": [
            "Moviepy - Done !\n",
            "Moviepy - video ready c:\\Users\\Jonathan\\Documents\\GitHub\\RL_Learning\\videos\\rl-video-episode-2500.mp4\n",
            "Iteration: 2600\n",
            "  Moving-Average Steps: 174.5900\n",
            "  Memory-Buffer Size: 10000\n",
            "  Agent Randomness: 0.001\n",
            "  Average Loss: 0.000699\n",
            "\n",
            "Moviepy - Building video c:\\Users\\Jonathan\\Documents\\GitHub\\RL_Learning\\videos\\rl-video-episode-2600.mp4.\n",
            "Moviepy - Writing video c:\\Users\\Jonathan\\Documents\\GitHub\\RL_Learning\\videos\\rl-video-episode-2600.mp4\n",
            "\n"
          ]
        },
        {
          "name": "stderr",
          "output_type": "stream",
          "text": [
            "                                                             "
          ]
        },
        {
          "name": "stdout",
          "output_type": "stream",
          "text": [
            "Moviepy - Done !\n",
            "Moviepy - video ready c:\\Users\\Jonathan\\Documents\\GitHub\\RL_Learning\\videos\\rl-video-episode-2600.mp4\n"
          ]
        },
        {
          "name": "stderr",
          "output_type": "stream",
          "text": [
            "\r"
          ]
        },
        {
          "name": "stdout",
          "output_type": "stream",
          "text": [
            "Iteration: 2700\n",
            "  Moving-Average Steps: 168.3400\n",
            "  Memory-Buffer Size: 10000\n",
            "  Agent Randomness: 0.001\n",
            "  Average Loss: 0.000463\n",
            "\n",
            "Moviepy - Building video c:\\Users\\Jonathan\\Documents\\GitHub\\RL_Learning\\videos\\rl-video-episode-2700.mp4.\n",
            "Moviepy - Writing video c:\\Users\\Jonathan\\Documents\\GitHub\\RL_Learning\\videos\\rl-video-episode-2700.mp4\n",
            "\n"
          ]
        },
        {
          "name": "stderr",
          "output_type": "stream",
          "text": [
            "                                                                \r"
          ]
        },
        {
          "name": "stdout",
          "output_type": "stream",
          "text": [
            "Moviepy - Done !\n",
            "Moviepy - video ready c:\\Users\\Jonathan\\Documents\\GitHub\\RL_Learning\\videos\\rl-video-episode-2700.mp4\n",
            "Iteration: 2800\n",
            "  Moving-Average Steps: 166.7800\n",
            "  Memory-Buffer Size: 10000\n",
            "  Agent Randomness: 0.001\n",
            "  Average Loss: 0.000534\n",
            "\n",
            "Moviepy - Building video c:\\Users\\Jonathan\\Documents\\GitHub\\RL_Learning\\videos\\rl-video-episode-2800.mp4.\n",
            "Moviepy - Writing video c:\\Users\\Jonathan\\Documents\\GitHub\\RL_Learning\\videos\\rl-video-episode-2800.mp4\n",
            "\n"
          ]
        },
        {
          "name": "stderr",
          "output_type": "stream",
          "text": [
            "                                                                \r"
          ]
        },
        {
          "name": "stdout",
          "output_type": "stream",
          "text": [
            "Moviepy - Done !\n",
            "Moviepy - video ready c:\\Users\\Jonathan\\Documents\\GitHub\\RL_Learning\\videos\\rl-video-episode-2800.mp4\n",
            "Iteration: 2900\n",
            "  Moving-Average Steps: 164.9600\n",
            "  Memory-Buffer Size: 10000\n",
            "  Agent Randomness: 0.001\n",
            "  Average Loss: 0.000599\n",
            "\n",
            "Moviepy - Building video c:\\Users\\Jonathan\\Documents\\GitHub\\RL_Learning\\videos\\rl-video-episode-2900.mp4.\n",
            "Moviepy - Writing video c:\\Users\\Jonathan\\Documents\\GitHub\\RL_Learning\\videos\\rl-video-episode-2900.mp4\n",
            "\n"
          ]
        },
        {
          "name": "stderr",
          "output_type": "stream",
          "text": [
            "                                                               \r"
          ]
        },
        {
          "name": "stdout",
          "output_type": "stream",
          "text": [
            "Moviepy - Done !\n",
            "Moviepy - video ready c:\\Users\\Jonathan\\Documents\\GitHub\\RL_Learning\\videos\\rl-video-episode-2900.mp4\n",
            "Iteration: 3000\n",
            "  Moving-Average Steps: 151.8400\n",
            "  Memory-Buffer Size: 10000\n",
            "  Agent Randomness: 0.001\n",
            "  Average Loss: 0.000712\n",
            "\n",
            "Moviepy - Building video c:\\Users\\Jonathan\\Documents\\GitHub\\RL_Learning\\videos\\rl-video-episode-3000.mp4.\n",
            "Moviepy - Writing video c:\\Users\\Jonathan\\Documents\\GitHub\\RL_Learning\\videos\\rl-video-episode-3000.mp4\n",
            "\n"
          ]
        },
        {
          "name": "stderr",
          "output_type": "stream",
          "text": [
            "                                                              \r"
          ]
        },
        {
          "name": "stdout",
          "output_type": "stream",
          "text": [
            "Moviepy - Done !\n",
            "Moviepy - video ready c:\\Users\\Jonathan\\Documents\\GitHub\\RL_Learning\\videos\\rl-video-episode-3000.mp4\n"
          ]
        }
      ],
      "source": [
        "max_iteration = 5000\n",
        "logging_iteration = 100\n",
        "learning = []\n",
        "losses = []\n",
        "\n",
        "environment = gym.wrappers.RecordVideo(\n",
        "    gym.make(\"Acrobot-v1\", render_mode=\"rgb_array\"),\n",
        "    video_folder=\"./videos\",\n",
        "    episode_trigger=lambda x: x % logging_iteration == 0\n",
        ")\n",
        "agent = Agent(environment)\n",
        "memory = Memory(max_size=10000)\n",
        "\n",
        "for iteration in range(1, max_iteration + 1):\n",
        "    steps = 0\n",
        "    done = False\n",
        "    state, _ = environment.reset()\n",
        "\n",
        "    while not done:\n",
        "        action, q_values = agent.act(state)\n",
        "        next_state, reward, done, *_ = environment.step(action)\n",
        "\n",
        "        memory.push(element=(state, next_state, action, reward))\n",
        "        state = next_state\n",
        "        steps += 1\n",
        "        \n",
        "        if steps == 500:\n",
        "          done = True\n",
        "\n",
        "    batch_losses = []\n",
        "    for _ in range(1, 64):\n",
        "      memory_batch = memory.get_batch(batch_size=64)\n",
        "      loss = agent.update(memory_batch)\n",
        "      batch_losses.append(loss)\n",
        "    losses.append(np.mean(batch_losses))\n",
        "    agent.update_randomness()\n",
        "\n",
        "    learning.append(steps)\n",
        "    if iteration % logging_iteration == 0:\n",
        "        print(f\"Iteration: {iteration}\")\n",
        "        print(f\"  Moving-Average Steps: {np.mean(learning[-logging_iteration:]):.4f}\")\n",
        "        print(f\"  Memory-Buffer Size: {len(memory.memory)}\")\n",
        "        print(f\"  Agent Randomness: {agent.randomness:.3f}\")\n",
        "        print(f\"  Average Loss: {np.mean(losses[-logging_iteration:]):.6f}\")\n",
        "        print()\n"
      ]
    },
    {
      "cell_type": "code",
      "execution_count": null,
      "metadata": {
        "id": "B4ACH7qIpyfK"
      },
      "outputs": [
        {
          "data": {
            "image/png": "[encoded data removed]",
            "text/plain": [
              "<Figure size 640x480 with 1 Axes>"
            ]
          },
          "metadata": {},
          "output_type": "display_data"
        }
      ],
      "source": [
        "x = np.arange(0, len(learning), logging_iteration)\n",
        "y = np.add.reduceat(learning, x) / logging_iteration\n",
        "\n",
        "sns.lineplot(x=x, y=y)\n",
        "plt.title(\"Acrobot Steps During Training (500 is max)\")\n",
        "plt.xlabel(\"Episodes\")\n",
        "plt.ylabel(\"Lifespan Steps\")\n",
        "plt.show()"
      ]
    },
    {
      "cell_type": "code",
      "execution_count": null,
      "metadata": {
        "id": "iDeoVLgt4fie"
      },
      "outputs": [
        {
          "data": {
            "text/html": [
              "\n",
              "<video width=400 controls>\n",
              "    <source src=\"data:video/mp4;base64,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\" type=\"video/mp4\">\n",
              "</video>\n"
            ],
            "text/plain": [
              "<IPython.core.display.HTML object>"
            ]
          },
          "metadata": {},
          "output_type": "display_data"
        }
      ],
      "source": [
        "display(show_video(f\"./videos/rl-video-episode-1400.mp4\"))"
      ]
    }
  ],
  "metadata": {
    "colab": {
      "collapsed_sections": [],
      "provenance": []
    },
    "kernelspec": {
      "display_name": "Python 3.8.10 64-bit",
      "language": "python",
      "name": "python3"
    },
    "language_info": {
      "codemirror_mode": {
        "name": "ipython",
        "version": 3
      },
      "file_extension": ".py",
      "mimetype": "text/x-python",
      "name": "python",
      "nbconvert_exporter": "python",
      "pygments_lexer": "ipython3",
      "version": "3.8.10"
    },
    "vscode": {
      "interpreter": {
        "hash": "416dc98a40f211febed67a3e6514fa8911676c9616c17a792cb71a40fff8a423"
      }
    }
  },
  "nbformat": 4,
  "nbformat_minor": 0
}
